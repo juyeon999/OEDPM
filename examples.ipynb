{
 "cells": [
  {
   "cell_type": "code",
   "execution_count": 6,
   "metadata": {},
   "outputs": [
    {
     "data": {
      "text/html": [
       "<div>\n",
       "<style scoped>\n",
       "    .dataframe tbody tr th:only-of-type {\n",
       "        vertical-align: middle;\n",
       "    }\n",
       "\n",
       "    .dataframe tbody tr th {\n",
       "        vertical-align: top;\n",
       "    }\n",
       "\n",
       "    .dataframe thead th {\n",
       "        text-align: right;\n",
       "    }\n",
       "</style>\n",
       "<table border=\"1\" class=\"dataframe\">\n",
       "  <thead>\n",
       "    <tr style=\"text-align: right;\">\n",
       "      <th></th>\n",
       "      <th>Accuracy</th>\n",
       "      <th>Precision</th>\n",
       "      <th>Recall</th>\n",
       "      <th>f1-score</th>\n",
       "      <th>ROC-AUC</th>\n",
       "      <th>PR-AUC</th>\n",
       "      <th>TN</th>\n",
       "      <th>FP</th>\n",
       "      <th>FN</th>\n",
       "      <th>TP</th>\n",
       "    </tr>\n",
       "  </thead>\n",
       "  <tbody>\n",
       "    <tr>\n",
       "      <th>0</th>\n",
       "      <td>0.996734</td>\n",
       "      <td>0.906542</td>\n",
       "      <td>1.0</td>\n",
       "      <td>0.95098</td>\n",
       "      <td>1.0</td>\n",
       "      <td>1.0</td>\n",
       "      <td>2955</td>\n",
       "      <td>10</td>\n",
       "      <td>0</td>\n",
       "      <td>97</td>\n",
       "    </tr>\n",
       "  </tbody>\n",
       "</table>\n",
       "</div>"
      ],
      "text/plain": [
       "   Accuracy  Precision  Recall  f1-score  ROC-AUC  PR-AUC    TN  FP  FN  TP\n",
       "0  0.996734   0.906542     1.0   0.95098      1.0     1.0  2955  10   0  97"
      ]
     },
     "execution_count": 6,
     "metadata": {},
     "output_type": "execute_result"
    }
   ],
   "source": [
    "from oedpm import OEDPM\n",
    "from data_generator import benchmark_generator\n",
    "from common import calculate_metrics\n",
    "import numpy as np\n",
    "\n",
    "# Generate data\n",
    "X_train, y = benchmark_generator('musk')\n",
    "\n",
    "# Fit the model\n",
    "np.random.seed(3920)\n",
    "model_configs = {'n_components':100, 'useIQRMethod':False, 'contamination':'auto'}\n",
    "model = OEDPM(**model_configs)\n",
    "model.fit(X_train)\n",
    "y_pred = model.predict(X_train)  # Predicted value for training data\n",
    "y_scores = model.y_scores  # Outlier scores for training data\n",
    "\n",
    "# Calculate metrics\n",
    "calculate_metrics(y, y_pred, y_scores)"
   ]
  }
 ],
 "metadata": {
  "kernelspec": {
   "display_name": "Python 3",
   "language": "python",
   "name": "python3"
  },
  "language_info": {
   "codemirror_mode": {
    "name": "ipython",
    "version": 3
   },
   "file_extension": ".py",
   "mimetype": "text/x-python",
   "name": "python",
   "nbconvert_exporter": "python",
   "pygments_lexer": "ipython3",
   "version": "3.9.6"
  }
 },
 "nbformat": 4,
 "nbformat_minor": 2
}
